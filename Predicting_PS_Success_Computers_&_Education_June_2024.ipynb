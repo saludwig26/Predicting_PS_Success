{
  "cells": [
    {
      "cell_type": "code",
      "execution_count": null,
      "metadata": {
        "id": "fHODDTrIuArX"
      },
      "outputs": [],
      "source": [
        "import numpy\n",
        "import pandas as pd\n",
        "\n",
        "data_05min = pd.read_csv(\"bigram_5min.csv\", sep= \",\", encoding=\"UTF-8\")\n",
        "data_10min = pd.read_csv(\"bigram_10min.csv\", sep= \",\", encoding=\"UTF-8\")\n",
        "data_20min = pd.read_csv(\"bigram_20min.csv\", sep= \",\", encoding=\"UTF-8\")\n",
        "\n",
        "data_05min_slcfeat = pd.read_csv(\"bigram_5min_slc.csv\", sep= \",\", encoding=\"UTF-8\")\n",
        "data_10min_slcfeat = pd.read_csv(\"bigram_10min_slc.csv\", sep= \",\", encoding=\"UTF-8\")\n",
        "data_20min_slcfeat = pd.read_csv(\"bigram_20min_slc.csv\", sep= \",\", encoding=\"UTF-8\")"
      ]
    },
    {
      "cell_type": "code",
      "execution_count": null,
      "metadata": {
        "id": "zibbvY3sQ19r"
      },
      "outputs": [],
      "source": [
        "X_10min = data_10min.drop(\"label\",axis=1)\n",
        "y_10min = data_10min[\"label\"]\n",
        "\n",
        "X_20min = data_20min.drop(\"label\",axis=1)\n",
        "y_20min = data_20min[\"label\"]\n",
        "\n",
        "X_05min = data_05min.drop(\"label\",axis=1)\n",
        "y_05min = data_05min[\"label\"]\n",
        "\n",
        "X_05min_slcfeat = data_05min_slcfeat.drop(\"label\",axis=1)\n",
        "y_05min_slcfeat = data_05min_slcfeat[\"label\"]\n",
        "\n",
        "X_10min_slcfeat = data_10min_slcfeat.drop(\"label\",axis=1)\n",
        "y_10min_slcfeat = data_10min_slcfeat[\"label\"]\n",
        "\n",
        "X_20min_slcfeat = data_20min_slcfeat.drop(\"label\",axis=1)\n",
        "y_20min_slcfeat = data_20min_slcfeat[\"label\"]\n"
      ]
    },
    {
      "cell_type": "code",
      "execution_count": null,
      "metadata": {
        "id": "reLpNnvCRNdG"
      },
      "outputs": [],
      "source": [
        "from sklearn.model_selection import train_test_split# implementing train-test-split\n",
        "X_05min_train, X_05min_test, y_05min_train, y_05min_test = train_test_split(X_05min, y_05min, test_size=0.3, random_state=66)\n",
        "\n",
        "from sklearn.model_selection import train_test_split# implementing train-test-split\n",
        "X_10min_train, X_10min_test, y_10min_train, y_10min_test = train_test_split(X_10min, y_10min, test_size=0.3, random_state=66)\n",
        "\n",
        "from sklearn.model_selection import train_test_split# implementing train-test-split\n",
        "X_20min_train, X_20min_test, y_20min_train, y_20min_test = train_test_split(X_20min, y_20min, test_size=0.3, random_state=66)\n",
        "\n",
        "from sklearn.model_selection import train_test_split# implementing train-test-split\n",
        "X_05min_slcfeat_train, X_05min_slcfeat_test, y_05min_slcfeat_train, y_05min_slcfeat_test = train_test_split(X_05min_slcfeat, y_05min_slcfeat, test_size=0.3, random_state=66)\n",
        "\n",
        "from sklearn.model_selection import train_test_split# implementing train-test-split\n",
        "X_10min_slcfeat_train, X_10min_slcfeat_test, y_10min_slcfeat_train, y_10min_slcfeat_test = train_test_split(X_10min_slcfeat, y_10min_slcfeat, test_size=0.3, random_state=66)\n",
        "\n",
        "from sklearn.model_selection import train_test_split# implementing train-test-split\n",
        "X_20min_slcfeat_train, X_20min_slcfeat_test, y_20min_slcfeat_train, y_20min_slcfeat_test = train_test_split(X_20min_slcfeat, y_20min_slcfeat, test_size=0.3, random_state=66)"
      ]
    },
    {
      "cell_type": "code",
      "execution_count": null,
      "metadata": {
        "id": "WMwo-2m8RRcY"
      },
      "outputs": [],
      "source": [
        "from sklearn import model_selection\n",
        "from sklearn.ensemble import RandomForestClassifier # random forest model creation\n",
        "rfc = RandomForestClassifier()\n",
        "rfc.fit(X_05min_train,y_05min_train)# predictions\n",
        "rfc_predict_05min_test = rfc.predict(X_05min_test)\n",
        "rfc_predict_05min_train = rfc.predict(X_05min_train)\n",
        "\n",
        "from sklearn import model_selection\n",
        "from sklearn.ensemble import RandomForestClassifier # random forest model creation\n",
        "rfc = RandomForestClassifier()\n",
        "rfc.fit(X_10min_train,y_10min_train)# predictions\n",
        "rfc_predict_10min_test = rfc.predict(X_10min_test)\n",
        "rfc_predict_10min_train = rfc.predict(X_10min_train)\n",
        "\n",
        "from sklearn import model_selection\n",
        "from sklearn.ensemble import RandomForestClassifier # random forest model creation\n",
        "rfc = RandomForestClassifier()\n",
        "rfc.fit(X_20min_train,y_20min_train)# predictions\n",
        "rfc_predict_20min_test = rfc.predict(X_20min_test)\n",
        "rfc_predict_20min_train = rfc.predict(X_20min_train)\n",
        "\n",
        "#slc feat\n",
        "from sklearn import model_selection\n",
        "from sklearn.ensemble import RandomForestClassifier # random forest model creation\n",
        "rfc = RandomForestClassifier()\n",
        "rfc.fit(X_05min_slcfeat_train,y_05min_slcfeat_train) # predictions\n",
        "rfc_predict_05min_slcfeat_test = rfc.predict(X_05min_slcfeat_test)\n",
        "rfc_predict_05min_slcfeat_train = rfc.predict(X_05min_slcfeat_train)\n",
        "\n",
        "#slc feat\n",
        "from sklearn import model_selection\n",
        "from sklearn.ensemble import RandomForestClassifier # random forest model creation\n",
        "rfc = RandomForestClassifier()\n",
        "rfc.fit(X_10min_slcfeat_train,y_10min_slcfeat_train) # predictions\n",
        "rfc_predict_10min_slcfeat_test = rfc.predict(X_10min_slcfeat_test)\n",
        "rfc_predict_10min_slcfeat_train = rfc.predict(X_10min_slcfeat_train)\n",
        "\n",
        "#slc feat\n",
        "from sklearn import model_selection\n",
        "from sklearn.ensemble import RandomForestClassifier # random forest model creation\n",
        "rfc = RandomForestClassifier()\n",
        "rfc.fit(X_20min_slcfeat_train,y_20min_slcfeat_train) # predictions\n",
        "rfc_predict_20min_slcfeat_test = rfc.predict(X_20min_slcfeat_test)\n",
        "rfc_predict_20min_slcfeat_train = rfc.predict(X_20min_slcfeat_train)\n"
      ]
    },
    {
      "cell_type": "code",
      "execution_count": null,
      "metadata": {
        "id": "6fj_-HW_RYCc"
      },
      "outputs": [],
      "source": [
        "from sklearn.model_selection import cross_val_score\n",
        "from sklearn.metrics import classification_report, confusion_matrix"
      ]
    },
    {
      "cell_type": "code",
      "execution_count": null,
      "metadata": {
        "id": "9LtFKXD4Reh2"
      },
      "outputs": [],
      "source": [
        "rfc_cv_score_05min = cross_val_score(rfc, X_05min, y_05min, cv=10, scoring='roc_auc')\n",
        "rfc_cv_score_10min = cross_val_score(rfc, X_10min, y_10min, cv=10, scoring='roc_auc')\n",
        "rfc_cv_score_20min = cross_val_score(rfc, X_20min, y_20min, cv=10, scoring='roc_auc')\n",
        "\n",
        "rfc_cv_score_05min_slcfeat = cross_val_score(rfc, X_05min_slcfeat, y_05min_slcfeat, cv=10, scoring='roc_auc')\n",
        "rfc_cv_score_10min_slcfeat = cross_val_score(rfc, X_10min_slcfeat, y_10min_slcfeat, cv=10, scoring='roc_auc')\n",
        "rfc_cv_score_20min_slcfeat = cross_val_score(rfc, X_20min_slcfeat, y_20min_slcfeat, cv=10, scoring='roc_auc')"
      ]
    },
    {
      "cell_type": "markdown",
      "source": [
        "**Performance with Train dataset**"
      ],
      "metadata": {
        "id": "Bv8vZD9EZKhM"
      }
    },
    {
      "cell_type": "code",
      "source": [
        "print(\"=== Confusion Matrix ===\")\n",
        "print(confusion_matrix(y_10min_train, rfc_predict_10min_train))\n",
        "print('\\n')\n",
        "print(\"=== Classification Report ===\")\n",
        "print(classification_report(y_10min_train, rfc_predict_10min_train))\n",
        "print('\\n')\n",
        "print(\"=== All AUC Scores ===\")\n",
        "print(rfc_cv_score_10min)\n",
        "print('\\n')\n",
        "print(\"=== Mean AUC Score ===\")\n",
        "print(\"Mean AUC Score - Random Forest: \", rfc_cv_score_10min.mean())"
      ],
      "metadata": {
        "id": "6grfKxcKogEp"
      },
      "execution_count": null,
      "outputs": []
    },
    {
      "cell_type": "code",
      "source": [
        "print(\"=== Confusion Matrix ===\")\n",
        "print(confusion_matrix(y_20min_train, rfc_predict_20min_train))\n",
        "print('\\n')\n",
        "print(\"=== Classification Report ===\")\n",
        "print(classification_report(y_20min_train, rfc_predict_20min_train))\n",
        "print('\\n')\n",
        "print(\"=== All AUC Scores ===\")\n",
        "print(rfc_cv_score_20min)\n",
        "print('\\n')\n",
        "print(\"=== Mean AUC Score ===\")\n",
        "print(\"Mean AUC Score - Random Forest: \", rfc_cv_score_20min.mean())"
      ],
      "metadata": {
        "id": "c9QHFTVm6fVx"
      },
      "execution_count": null,
      "outputs": []
    },
    {
      "cell_type": "code",
      "source": [
        "print(\"=== Confusion Matrix ===\")\n",
        "print(confusion_matrix(y_05min_train, rfc_predict_05min_train))\n",
        "print('\\n')\n",
        "print(\"=== Classification Report ===\")\n",
        "print(classification_report(y_05min_train, rfc_predict_05min_train))\n",
        "print('\\n')\n",
        "print(\"=== All AUC Scores ===\")\n",
        "print(rfc_cv_score_05min)\n",
        "print('\\n')\n",
        "print(\"=== Mean AUC Score ===\")\n",
        "print(\"Mean AUC Score - Random Forest: \", rfc_cv_score_05min.mean())"
      ],
      "metadata": {
        "id": "x-CJ4kW36f77"
      },
      "execution_count": null,
      "outputs": []
    },
    {
      "cell_type": "markdown",
      "source": [
        "**Performance with Test dataset**"
      ],
      "metadata": {
        "id": "28USIcckZTVE"
      }
    },
    {
      "cell_type": "code",
      "source": [
        "print(\"=== Confusion Matrix ===\")\n",
        "print(confusion_matrix(y_10min_test, rfc_predict_10min_test))\n",
        "print('\\n')\n",
        "print(\"=== Classification Report ===\")\n",
        "print(classification_report(y_10min_test, rfc_predict_10min_test))\n",
        "print('\\n')\n",
        "print(\"=== All AUC Scores ===\")\n",
        "print(rfc_cv_score_10min)\n",
        "print('\\n')\n",
        "print(\"=== Mean AUC Score ===\")\n",
        "print(\"Mean AUC Score - Random Forest: \", rfc_cv_score_10min.mean())"
      ],
      "metadata": {
        "id": "ZXmy3hwGAXLZ"
      },
      "execution_count": null,
      "outputs": []
    },
    {
      "cell_type": "code",
      "source": [
        "print(\"=== Confusion Matrix ===\")\n",
        "print(confusion_matrix(y_20min_test, rfc_predict_20min_test))\n",
        "print('\\n')\n",
        "print(\"=== Classification Report ===\")\n",
        "print(classification_report(y_20min_test, rfc_predict_20min_test))\n",
        "print('\\n')\n",
        "print(\"=== All AUC Scores ===\")\n",
        "print(rfc_cv_score_20min)\n",
        "print('\\n')\n",
        "print(\"=== Mean AUC Score ===\")\n",
        "print(\"Mean AUC Score - Random Forest: \", rfc_cv_score_20min.mean())"
      ],
      "metadata": {
        "id": "Pu0YFQmlBIhq"
      },
      "execution_count": null,
      "outputs": []
    },
    {
      "cell_type": "code",
      "source": [
        "print(\"=== Confusion Matrix ===\")\n",
        "print(confusion_matrix(y_05min_test, rfc_predict_05min_test))\n",
        "print('\\n')\n",
        "print(\"=== Classification Report ===\")\n",
        "print(classification_report(y_05min_test, rfc_predict_05min_test))\n",
        "print('\\n')\n",
        "print(\"=== All AUC Scores ===\")\n",
        "print(rfc_cv_score_05min)\n",
        "print('\\n')\n",
        "print(\"=== Mean AUC Score ===\")\n",
        "print(\"Mean AUC Score - Random Forest: \", rfc_cv_score_05min.mean())"
      ],
      "metadata": {
        "id": "mm30J2cGAfCh"
      },
      "execution_count": null,
      "outputs": []
    },
    {
      "cell_type": "code",
      "source": [
        "print(\"=== Confusion Matrix ===\")\n",
        "print(confusion_matrix(y_05min_slcfeat_test, rfc_predict_05min_slcfeat_test))\n",
        "print('\\n')\n",
        "print(\"=== Classification Report ===\")\n",
        "print(classification_report(y_05min_slcfeat_test, rfc_predict_05min_slcfeat_test))\n",
        "print('\\n')\n",
        "print(\"=== All AUC Scores ===\")\n",
        "print(rfc_cv_score_05min_slcfeat)\n",
        "print('\\n')\n",
        "print(\"=== Mean AUC Score ===\")\n",
        "print(\"Mean AUC Score - Random Forest: \", rfc_cv_score_05min_slcfeat.mean())"
      ],
      "metadata": {
        "id": "D-eNQsxxkkrQ"
      },
      "execution_count": null,
      "outputs": []
    },
    {
      "cell_type": "markdown",
      "source": [
        "**Performance with Test dataset (slc features)**"
      ],
      "metadata": {
        "id": "QZcaXHH-g7BX"
      }
    },
    {
      "cell_type": "code",
      "source": [
        "print(\"=== Confusion Matrix ===\")\n",
        "print(confusion_matrix(y_10min_slcfeat_test, rfc_predict_10min_slcfeat_test))\n",
        "print('\\n')\n",
        "print(\"=== Classification Report ===\")\n",
        "print(classification_report(y_10min_slcfeat_test, rfc_predict_10min_slcfeat_test))\n",
        "print('\\n')\n",
        "print(\"=== All AUC Scores ===\")\n",
        "print(rfc_cv_score_10min_slcfeat)\n",
        "print('\\n')\n",
        "print(\"=== Mean AUC Score ===\")\n",
        "print(\"Mean AUC Score - Random Forest: \", rfc_cv_score_10min_slcfeat.mean())"
      ],
      "metadata": {
        "id": "yYhYiQwS4eZ7"
      },
      "execution_count": null,
      "outputs": []
    },
    {
      "cell_type": "code",
      "source": [
        "print(\"=== Confusion Matrix ===\")\n",
        "print(confusion_matrix(y_20min_slcfeat_test, rfc_predict_20min_slcfeat_test))\n",
        "print('\\n')\n",
        "print(\"=== Classification Report ===\")\n",
        "print(classification_report(y_20min_slcfeat_test, rfc_predict_20min_slcfeat_test))\n",
        "print('\\n')\n",
        "print(\"=== All AUC Scores ===\")\n",
        "print(rfc_cv_score_20min_slcfeat)\n",
        "print('\\n')\n",
        "print(\"=== Mean AUC Score ===\")\n",
        "print(\"Mean AUC Score - Random Forest: \", rfc_cv_score_20min_slcfeat.mean())"
      ],
      "metadata": {
        "id": "ZxP6_4zIZW2x"
      },
      "execution_count": null,
      "outputs": []
    },
    {
      "cell_type": "code",
      "execution_count": null,
      "metadata": {
        "id": "TdnNw7uKRgGp"
      },
      "outputs": [],
      "source": [
        "rcvteprint(\"=== Confusion Matrix ===\")\n",
        "print(confusion_matrix(y_test, rfc_predict_test))\n",
        "print('\\n')\n",
        "print(\"=== Classification Report ===\")\n",
        "print(classification_report(y_test, rfc_predict_test))\n",
        "print('\\n')\n",
        "print(\"=== All AUC Scores ===\")\n",
        "print(rfc_cv_score)\n",
        "print('\\n')\n",
        "print(\"=== Mean AUC Score ===\")\n",
        "print(\"Mean AUC Score - Random Forest: \", rfc_cv_score.mean())"
      ]
    },
    {
      "cell_type": "markdown",
      "source": [
        "**Confusion matrix plot**"
      ],
      "metadata": {
        "id": "gB0GJXPtyMfQ"
      }
    },
    {
      "cell_type": "code",
      "source": [
        "import seaborn as sns\n",
        "import numpy as np\n",
        "import matplotlib.pyplot as plt"
      ],
      "metadata": {
        "id": "Sh3qVuHSyEAS"
      },
      "execution_count": null,
      "outputs": []
    },
    {
      "cell_type": "code",
      "source": [
        "conf_mat_5min = np.array([[21, 23],\n",
        "                        [15,21]])"
      ],
      "metadata": {
        "id": "1K8drc8fyU-q"
      },
      "execution_count": null,
      "outputs": []
    },
    {
      "cell_type": "code",
      "source": [
        "plt.figure(figsize=(7,5))\n",
        "cm = sns.heatmap(conf_mat_5min, annot= True , vmin=0, vmax=30, cmap='Blues') #https://matplotlib.org/stable/tutorials/colors/colormaps.html\n",
        "cm.set_xlabel('Predicted  Value')\n",
        "cm.set_ylabel('True Value')"
      ],
      "metadata": {
        "id": "8ZJiSEhAylDN"
      },
      "execution_count": null,
      "outputs": []
    },
    {
      "cell_type": "code",
      "source": [
        "conf_mat_10min = np.array([[24, 10],\n",
        "                        [17,17]])"
      ],
      "metadata": {
        "id": "QIpcyT8k3jiH"
      },
      "execution_count": null,
      "outputs": []
    },
    {
      "cell_type": "code",
      "source": [
        "plt.figure(figsize=(7,5))\n",
        "cm = sns.heatmap(conf_mat_10min, annot= True , vmin=0, vmax=30, cmap='Blues') #https://matplotlib.org/stable/tutorials/colors/colormaps.html\n",
        "cm.set_xlabel('Predicted  Value')\n",
        "cm.set_ylabel('True Value')"
      ],
      "metadata": {
        "id": "lTm5Mo3rZmAW"
      },
      "execution_count": null,
      "outputs": []
    },
    {
      "cell_type": "code",
      "source": [
        "conf_mat_20min = np.array([[25, 13],\n",
        "                        [16,19]])"
      ],
      "metadata": {
        "id": "RA-b-vqxg-Wt"
      },
      "execution_count": null,
      "outputs": []
    },
    {
      "cell_type": "code",
      "source": [
        "plt.figure(figsize=(7,5))\n",
        "cm = sns.heatmap(conf_mat_20min, annot= True , vmin=0, vmax=30, cmap='Blues') #https://matplotlib.org/stable/tutorials/colors/colormaps.html\n",
        "cm.set_xlabel('Predicted  Value')\n",
        "cm.set_ylabel('True Value')\n"
      ],
      "metadata": {
        "id": "7r12QSUfhAfH"
      },
      "execution_count": null,
      "outputs": []
    },
    {
      "cell_type": "markdown",
      "source": [
        "#Training datensatz"
      ],
      "metadata": {
        "id": "kS72m7bvXje8"
      }
    },
    {
      "cell_type": "markdown",
      "source": [
        "https://www.kaggle.com/code/prashant111/random-forest-classifier-tutorial"
      ],
      "metadata": {
        "id": "Zs2gQS-kwmiU"
      }
    },
    {
      "cell_type": "code",
      "source": [
        "# create the classifier with n_estimators = 100\n",
        "clf_05min = RandomForestClassifier(n_estimators=100, random_state=0)\n",
        "\n",
        "# fit the model to the training set\n",
        "clf_05min.fit(X_05min_train, y_05min_train)"
      ],
      "metadata": {
        "colab": {
          "base_uri": "https://localhost:8080/",
          "height": 75
        },
        "id": "BYy1xtZsYL5P",
        "outputId": "93963e42-e7be-48ba-92f6-8343d0b4f545"
      },
      "execution_count": null,
      "outputs": [
        {
          "output_type": "execute_result",
          "data": {
            "text/plain": [
              "RandomForestClassifier(random_state=0)"
            ],
            "text/html": [
              "<style>#sk-container-id-1 {color: black;background-color: white;}#sk-container-id-1 pre{padding: 0;}#sk-container-id-1 div.sk-toggleable {background-color: white;}#sk-container-id-1 label.sk-toggleable__label {cursor: pointer;display: block;width: 100%;margin-bottom: 0;padding: 0.3em;box-sizing: border-box;text-align: center;}#sk-container-id-1 label.sk-toggleable__label-arrow:before {content: \"▸\";float: left;margin-right: 0.25em;color: #696969;}#sk-container-id-1 label.sk-toggleable__label-arrow:hover:before {color: black;}#sk-container-id-1 div.sk-estimator:hover label.sk-toggleable__label-arrow:before {color: black;}#sk-container-id-1 div.sk-toggleable__content {max-height: 0;max-width: 0;overflow: hidden;text-align: left;background-color: #f0f8ff;}#sk-container-id-1 div.sk-toggleable__content pre {margin: 0.2em;color: black;border-radius: 0.25em;background-color: #f0f8ff;}#sk-container-id-1 input.sk-toggleable__control:checked~div.sk-toggleable__content {max-height: 200px;max-width: 100%;overflow: auto;}#sk-container-id-1 input.sk-toggleable__control:checked~label.sk-toggleable__label-arrow:before {content: \"▾\";}#sk-container-id-1 div.sk-estimator input.sk-toggleable__control:checked~label.sk-toggleable__label {background-color: #d4ebff;}#sk-container-id-1 div.sk-label input.sk-toggleable__control:checked~label.sk-toggleable__label {background-color: #d4ebff;}#sk-container-id-1 input.sk-hidden--visually {border: 0;clip: rect(1px 1px 1px 1px);clip: rect(1px, 1px, 1px, 1px);height: 1px;margin: -1px;overflow: hidden;padding: 0;position: absolute;width: 1px;}#sk-container-id-1 div.sk-estimator {font-family: monospace;background-color: #f0f8ff;border: 1px dotted black;border-radius: 0.25em;box-sizing: border-box;margin-bottom: 0.5em;}#sk-container-id-1 div.sk-estimator:hover {background-color: #d4ebff;}#sk-container-id-1 div.sk-parallel-item::after {content: \"\";width: 100%;border-bottom: 1px solid gray;flex-grow: 1;}#sk-container-id-1 div.sk-label:hover label.sk-toggleable__label {background-color: #d4ebff;}#sk-container-id-1 div.sk-serial::before {content: \"\";position: absolute;border-left: 1px solid gray;box-sizing: border-box;top: 0;bottom: 0;left: 50%;z-index: 0;}#sk-container-id-1 div.sk-serial {display: flex;flex-direction: column;align-items: center;background-color: white;padding-right: 0.2em;padding-left: 0.2em;position: relative;}#sk-container-id-1 div.sk-item {position: relative;z-index: 1;}#sk-container-id-1 div.sk-parallel {display: flex;align-items: stretch;justify-content: center;background-color: white;position: relative;}#sk-container-id-1 div.sk-item::before, #sk-container-id-1 div.sk-parallel-item::before {content: \"\";position: absolute;border-left: 1px solid gray;box-sizing: border-box;top: 0;bottom: 0;left: 50%;z-index: -1;}#sk-container-id-1 div.sk-parallel-item {display: flex;flex-direction: column;z-index: 1;position: relative;background-color: white;}#sk-container-id-1 div.sk-parallel-item:first-child::after {align-self: flex-end;width: 50%;}#sk-container-id-1 div.sk-parallel-item:last-child::after {align-self: flex-start;width: 50%;}#sk-container-id-1 div.sk-parallel-item:only-child::after {width: 0;}#sk-container-id-1 div.sk-dashed-wrapped {border: 1px dashed gray;margin: 0 0.4em 0.5em 0.4em;box-sizing: border-box;padding-bottom: 0.4em;background-color: white;}#sk-container-id-1 div.sk-label label {font-family: monospace;font-weight: bold;display: inline-block;line-height: 1.2em;}#sk-container-id-1 div.sk-label-container {text-align: center;}#sk-container-id-1 div.sk-container {/* jupyter's `normalize.less` sets `[hidden] { display: none; }` but bootstrap.min.css set `[hidden] { display: none !important; }` so we also need the `!important` here to be able to override the default hidden behavior on the sphinx rendered scikit-learn.org. See: https://github.com/scikit-learn/scikit-learn/issues/21755 */display: inline-block !important;position: relative;}#sk-container-id-1 div.sk-text-repr-fallback {display: none;}</style><div id=\"sk-container-id-1\" class=\"sk-top-container\"><div class=\"sk-text-repr-fallback\"><pre>RandomForestClassifier(random_state=0)</pre><b>In a Jupyter environment, please rerun this cell to show the HTML representation or trust the notebook. <br />On GitHub, the HTML representation is unable to render, please try loading this page with nbviewer.org.</b></div><div class=\"sk-container\" hidden><div class=\"sk-item\"><div class=\"sk-estimator sk-toggleable\"><input class=\"sk-toggleable__control sk-hidden--visually\" id=\"sk-estimator-id-1\" type=\"checkbox\" checked><label for=\"sk-estimator-id-1\" class=\"sk-toggleable__label sk-toggleable__label-arrow\">RandomForestClassifier</label><div class=\"sk-toggleable__content\"><pre>RandomForestClassifier(random_state=0)</pre></div></div></div></div></div>"
            ]
          },
          "metadata": {},
          "execution_count": 8
        }
      ]
    },
    {
      "cell_type": "code",
      "source": [
        "# create the classifier with n_estimators = 100\n",
        "clf_10min = RandomForestClassifier(n_estimators=100, random_state=0)\n",
        "\n",
        "# fit the model to the training set\n",
        "clf_10min.fit(X_10min_train, y_10min_train)"
      ],
      "metadata": {
        "colab": {
          "base_uri": "https://localhost:8080/",
          "height": 75
        },
        "id": "Y1X7FjAacKxM",
        "outputId": "9efb67d5-537d-4852-86a7-61d561403e17"
      },
      "execution_count": null,
      "outputs": [
        {
          "output_type": "execute_result",
          "data": {
            "text/plain": [
              "RandomForestClassifier(random_state=0)"
            ],
            "text/html": [
              "<style>#sk-container-id-1 {color: black;background-color: white;}#sk-container-id-1 pre{padding: 0;}#sk-container-id-1 div.sk-toggleable {background-color: white;}#sk-container-id-1 label.sk-toggleable__label {cursor: pointer;display: block;width: 100%;margin-bottom: 0;padding: 0.3em;box-sizing: border-box;text-align: center;}#sk-container-id-1 label.sk-toggleable__label-arrow:before {content: \"▸\";float: left;margin-right: 0.25em;color: #696969;}#sk-container-id-1 label.sk-toggleable__label-arrow:hover:before {color: black;}#sk-container-id-1 div.sk-estimator:hover label.sk-toggleable__label-arrow:before {color: black;}#sk-container-id-1 div.sk-toggleable__content {max-height: 0;max-width: 0;overflow: hidden;text-align: left;background-color: #f0f8ff;}#sk-container-id-1 div.sk-toggleable__content pre {margin: 0.2em;color: black;border-radius: 0.25em;background-color: #f0f8ff;}#sk-container-id-1 input.sk-toggleable__control:checked~div.sk-toggleable__content {max-height: 200px;max-width: 100%;overflow: auto;}#sk-container-id-1 input.sk-toggleable__control:checked~label.sk-toggleable__label-arrow:before {content: \"▾\";}#sk-container-id-1 div.sk-estimator input.sk-toggleable__control:checked~label.sk-toggleable__label {background-color: #d4ebff;}#sk-container-id-1 div.sk-label input.sk-toggleable__control:checked~label.sk-toggleable__label {background-color: #d4ebff;}#sk-container-id-1 input.sk-hidden--visually {border: 0;clip: rect(1px 1px 1px 1px);clip: rect(1px, 1px, 1px, 1px);height: 1px;margin: -1px;overflow: hidden;padding: 0;position: absolute;width: 1px;}#sk-container-id-1 div.sk-estimator {font-family: monospace;background-color: #f0f8ff;border: 1px dotted black;border-radius: 0.25em;box-sizing: border-box;margin-bottom: 0.5em;}#sk-container-id-1 div.sk-estimator:hover {background-color: #d4ebff;}#sk-container-id-1 div.sk-parallel-item::after {content: \"\";width: 100%;border-bottom: 1px solid gray;flex-grow: 1;}#sk-container-id-1 div.sk-label:hover label.sk-toggleable__label {background-color: #d4ebff;}#sk-container-id-1 div.sk-serial::before {content: \"\";position: absolute;border-left: 1px solid gray;box-sizing: border-box;top: 0;bottom: 0;left: 50%;z-index: 0;}#sk-container-id-1 div.sk-serial {display: flex;flex-direction: column;align-items: center;background-color: white;padding-right: 0.2em;padding-left: 0.2em;position: relative;}#sk-container-id-1 div.sk-item {position: relative;z-index: 1;}#sk-container-id-1 div.sk-parallel {display: flex;align-items: stretch;justify-content: center;background-color: white;position: relative;}#sk-container-id-1 div.sk-item::before, #sk-container-id-1 div.sk-parallel-item::before {content: \"\";position: absolute;border-left: 1px solid gray;box-sizing: border-box;top: 0;bottom: 0;left: 50%;z-index: -1;}#sk-container-id-1 div.sk-parallel-item {display: flex;flex-direction: column;z-index: 1;position: relative;background-color: white;}#sk-container-id-1 div.sk-parallel-item:first-child::after {align-self: flex-end;width: 50%;}#sk-container-id-1 div.sk-parallel-item:last-child::after {align-self: flex-start;width: 50%;}#sk-container-id-1 div.sk-parallel-item:only-child::after {width: 0;}#sk-container-id-1 div.sk-dashed-wrapped {border: 1px dashed gray;margin: 0 0.4em 0.5em 0.4em;box-sizing: border-box;padding-bottom: 0.4em;background-color: white;}#sk-container-id-1 div.sk-label label {font-family: monospace;font-weight: bold;display: inline-block;line-height: 1.2em;}#sk-container-id-1 div.sk-label-container {text-align: center;}#sk-container-id-1 div.sk-container {/* jupyter's `normalize.less` sets `[hidden] { display: none; }` but bootstrap.min.css set `[hidden] { display: none !important; }` so we also need the `!important` here to be able to override the default hidden behavior on the sphinx rendered scikit-learn.org. See: https://github.com/scikit-learn/scikit-learn/issues/21755 */display: inline-block !important;position: relative;}#sk-container-id-1 div.sk-text-repr-fallback {display: none;}</style><div id=\"sk-container-id-1\" class=\"sk-top-container\"><div class=\"sk-text-repr-fallback\"><pre>RandomForestClassifier(random_state=0)</pre><b>In a Jupyter environment, please rerun this cell to show the HTML representation or trust the notebook. <br />On GitHub, the HTML representation is unable to render, please try loading this page with nbviewer.org.</b></div><div class=\"sk-container\" hidden><div class=\"sk-item\"><div class=\"sk-estimator sk-toggleable\"><input class=\"sk-toggleable__control sk-hidden--visually\" id=\"sk-estimator-id-1\" type=\"checkbox\" checked><label for=\"sk-estimator-id-1\" class=\"sk-toggleable__label sk-toggleable__label-arrow\">RandomForestClassifier</label><div class=\"sk-toggleable__content\"><pre>RandomForestClassifier(random_state=0)</pre></div></div></div></div></div>"
            ]
          },
          "metadata": {},
          "execution_count": 10
        }
      ]
    },
    {
      "cell_type": "code",
      "source": [
        "# create the classifier with n_estimators = 100\n",
        "clf_20min = RandomForestClassifier(n_estimators=100, random_state=0)\n",
        "\n",
        "# fit the model to the training set\n",
        "clf_20min.fit(X_20min_train, y_20min_train)"
      ],
      "metadata": {
        "colab": {
          "base_uri": "https://localhost:8080/",
          "height": 75
        },
        "id": "PEICTssz-dPn",
        "outputId": "7d9ee26f-a744-40f0-b2dc-ba3598e94e63"
      },
      "execution_count": null,
      "outputs": [
        {
          "output_type": "execute_result",
          "data": {
            "text/plain": [
              "RandomForestClassifier(random_state=0)"
            ],
            "text/html": [
              "<style>#sk-container-id-1 {color: black;background-color: white;}#sk-container-id-1 pre{padding: 0;}#sk-container-id-1 div.sk-toggleable {background-color: white;}#sk-container-id-1 label.sk-toggleable__label {cursor: pointer;display: block;width: 100%;margin-bottom: 0;padding: 0.3em;box-sizing: border-box;text-align: center;}#sk-container-id-1 label.sk-toggleable__label-arrow:before {content: \"▸\";float: left;margin-right: 0.25em;color: #696969;}#sk-container-id-1 label.sk-toggleable__label-arrow:hover:before {color: black;}#sk-container-id-1 div.sk-estimator:hover label.sk-toggleable__label-arrow:before {color: black;}#sk-container-id-1 div.sk-toggleable__content {max-height: 0;max-width: 0;overflow: hidden;text-align: left;background-color: #f0f8ff;}#sk-container-id-1 div.sk-toggleable__content pre {margin: 0.2em;color: black;border-radius: 0.25em;background-color: #f0f8ff;}#sk-container-id-1 input.sk-toggleable__control:checked~div.sk-toggleable__content {max-height: 200px;max-width: 100%;overflow: auto;}#sk-container-id-1 input.sk-toggleable__control:checked~label.sk-toggleable__label-arrow:before {content: \"▾\";}#sk-container-id-1 div.sk-estimator input.sk-toggleable__control:checked~label.sk-toggleable__label {background-color: #d4ebff;}#sk-container-id-1 div.sk-label input.sk-toggleable__control:checked~label.sk-toggleable__label {background-color: #d4ebff;}#sk-container-id-1 input.sk-hidden--visually {border: 0;clip: rect(1px 1px 1px 1px);clip: rect(1px, 1px, 1px, 1px);height: 1px;margin: -1px;overflow: hidden;padding: 0;position: absolute;width: 1px;}#sk-container-id-1 div.sk-estimator {font-family: monospace;background-color: #f0f8ff;border: 1px dotted black;border-radius: 0.25em;box-sizing: border-box;margin-bottom: 0.5em;}#sk-container-id-1 div.sk-estimator:hover {background-color: #d4ebff;}#sk-container-id-1 div.sk-parallel-item::after {content: \"\";width: 100%;border-bottom: 1px solid gray;flex-grow: 1;}#sk-container-id-1 div.sk-label:hover label.sk-toggleable__label {background-color: #d4ebff;}#sk-container-id-1 div.sk-serial::before {content: \"\";position: absolute;border-left: 1px solid gray;box-sizing: border-box;top: 0;bottom: 0;left: 50%;z-index: 0;}#sk-container-id-1 div.sk-serial {display: flex;flex-direction: column;align-items: center;background-color: white;padding-right: 0.2em;padding-left: 0.2em;position: relative;}#sk-container-id-1 div.sk-item {position: relative;z-index: 1;}#sk-container-id-1 div.sk-parallel {display: flex;align-items: stretch;justify-content: center;background-color: white;position: relative;}#sk-container-id-1 div.sk-item::before, #sk-container-id-1 div.sk-parallel-item::before {content: \"\";position: absolute;border-left: 1px solid gray;box-sizing: border-box;top: 0;bottom: 0;left: 50%;z-index: -1;}#sk-container-id-1 div.sk-parallel-item {display: flex;flex-direction: column;z-index: 1;position: relative;background-color: white;}#sk-container-id-1 div.sk-parallel-item:first-child::after {align-self: flex-end;width: 50%;}#sk-container-id-1 div.sk-parallel-item:last-child::after {align-self: flex-start;width: 50%;}#sk-container-id-1 div.sk-parallel-item:only-child::after {width: 0;}#sk-container-id-1 div.sk-dashed-wrapped {border: 1px dashed gray;margin: 0 0.4em 0.5em 0.4em;box-sizing: border-box;padding-bottom: 0.4em;background-color: white;}#sk-container-id-1 div.sk-label label {font-family: monospace;font-weight: bold;display: inline-block;line-height: 1.2em;}#sk-container-id-1 div.sk-label-container {text-align: center;}#sk-container-id-1 div.sk-container {/* jupyter's `normalize.less` sets `[hidden] { display: none; }` but bootstrap.min.css set `[hidden] { display: none !important; }` so we also need the `!important` here to be able to override the default hidden behavior on the sphinx rendered scikit-learn.org. See: https://github.com/scikit-learn/scikit-learn/issues/21755 */display: inline-block !important;position: relative;}#sk-container-id-1 div.sk-text-repr-fallback {display: none;}</style><div id=\"sk-container-id-1\" class=\"sk-top-container\"><div class=\"sk-text-repr-fallback\"><pre>RandomForestClassifier(random_state=0)</pre><b>In a Jupyter environment, please rerun this cell to show the HTML representation or trust the notebook. <br />On GitHub, the HTML representation is unable to render, please try loading this page with nbviewer.org.</b></div><div class=\"sk-container\" hidden><div class=\"sk-item\"><div class=\"sk-estimator sk-toggleable\"><input class=\"sk-toggleable__control sk-hidden--visually\" id=\"sk-estimator-id-1\" type=\"checkbox\" checked><label for=\"sk-estimator-id-1\" class=\"sk-toggleable__label sk-toggleable__label-arrow\">RandomForestClassifier</label><div class=\"sk-toggleable__content\"><pre>RandomForestClassifier(random_state=0)</pre></div></div></div></div></div>"
            ]
          },
          "metadata": {},
          "execution_count": 9
        }
      ]
    },
    {
      "cell_type": "markdown",
      "source": [
        "## Feature importance ##"
      ],
      "metadata": {
        "id": "InV1k9bYi2iA"
      }
    },
    {
      "cell_type": "code",
      "source": [
        "# view the feature scores\n",
        "feature_scores_05min = pd.Series(clf_05min.feature_importances_, index=X_05min_train.columns).sort_values(ascending=False)\n",
        "feature_scores_05min"
      ],
      "metadata": {
        "id": "7t0IE7uxccSP"
      },
      "execution_count": null,
      "outputs": []
    },
    {
      "cell_type": "code",
      "source": [
        "# Set the maximum number of rows to None to display all rows\n",
        "pd.set_option('display.max_rows', None)\n",
        "\n",
        "# Print the feature_scores series\n",
        "print(feature_scores_05min)"
      ],
      "metadata": {
        "id": "1K2PYiTjSNw5"
      },
      "execution_count": null,
      "outputs": []
    },
    {
      "cell_type": "code",
      "execution_count": null,
      "metadata": {
        "id": "VY1AcQzNWD1g"
      },
      "outputs": [],
      "source": [
        "# view the feature scores\n",
        "feature_scores_10min = pd.Series(clf_10min.feature_importances_, index=X_10min_train.columns).sort_values(ascending=False)\n",
        "\n",
        "feature_scores_10min"
      ]
    },
    {
      "cell_type": "code",
      "source": [
        "# Set the maximum number of rows to None to display all rows\n",
        "pd.set_option('display.max_rows', None)\n",
        "\n",
        "# Print the feature_scores series\n",
        "print(feature_scores_10min)"
      ],
      "metadata": {
        "id": "vi_trrC8DfGa"
      },
      "execution_count": null,
      "outputs": []
    },
    {
      "cell_type": "code",
      "source": [
        "# view the feature scores\n",
        "feature_scores_20min = pd.Series(clf_20min.feature_importances_, index=X_20min_train.columns).sort_values(ascending=False)\n",
        "\n",
        "feature_scores_20min"
      ],
      "metadata": {
        "id": "tcwb1rlP--AX"
      },
      "execution_count": null,
      "outputs": []
    },
    {
      "cell_type": "code",
      "source": [
        "# Set the maximum number of rows to None to display all rows\n",
        "pd.set_option('display.max_rows', None)\n",
        "\n",
        "# Print the feature_scores series\n",
        "print(feature_scores_20min)"
      ],
      "metadata": {
        "id": "zkVzw6Ge_QvH"
      },
      "execution_count": null,
      "outputs": []
    }
  ],
  "metadata": {
    "accelerator": "GPU",
    "colab": {
      "provenance": []
    },
    "kernelspec": {
      "display_name": "Python 3",
      "name": "python3"
    },
    "language_info": {
      "name": "python"
    }
  },
  "nbformat": 4,
  "nbformat_minor": 0
}